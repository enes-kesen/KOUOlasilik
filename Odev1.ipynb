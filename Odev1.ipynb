{
  "nbformat": 4,
  "nbformat_minor": 0,
  "metadata": {
    "colab": {
      "provenance": [],
      "authorship_tag": "ABX9TyOxfbZeF/PMtmWOGhB7sMQK",
      "include_colab_link": true
    },
    "kernelspec": {
      "name": "python3",
      "display_name": "Python 3"
    },
    "language_info": {
      "name": "python"
    }
  },
  "cells": [
    {
      "cell_type": "markdown",
      "metadata": {
        "id": "view-in-github",
        "colab_type": "text"
      },
      "source": [
        "<a href=\"https://colab.research.google.com/github/enes-kesen/KOUOlasilik/blob/main/Odev1.ipynb\" target=\"_parent\"><img src=\"https://colab.research.google.com/assets/colab-badge.svg\" alt=\"Open In Colab\"/></a>"
      ]
    },
    {
      "cell_type": "markdown",
      "source": [
        "Bir elektronik ve haberleşme mühendisi, 6 farklı frekans bandında çalışan bir iletişim sistemi tasarlamaktadır. Bu sistem, 4 farklı frekans bandını aynı anda kullanarak veri iletimi gerçekleştirecektir. İletişim sistemini test etmek için, mühendis tüm mümkün frekans kombinasyonlarını ve frekans sıralamasını denemelidir.\n",
        "1-İletişim sistemi için kaç farklı 4 frekans bandı kombinasyonu vardır (C(6,4))?"
      ],
      "metadata": {
        "id": "6X7TXt7ix5AF"
      }
    },
    {
      "cell_type": "code",
      "source": [
        "import math\n",
        "\n",
        "def kombinasyon(n, r):\n",
        "    return math.comb(n, r)\n",
        "\n",
        "frekans_band_sayisi = 6\n",
        "secim_sayisi = 4\n",
        "\n",
        "kombinasyon_sayisi = kombinasyon(frekans_band_sayisi, secim_sayisi)\n",
        "print(f\"{frekans_band_sayisi} frekans bandından {secim_sayisi} tanesini seçme sayısı: {kombinasyon_sayisi}\")\n"
      ],
      "metadata": {
        "colab": {
          "base_uri": "https://localhost:8080/"
        },
        "id": "nuTzLA0Lx8i4",
        "outputId": "be7d3cd3-fa3f-4233-b5f8-1a62e17caf75"
      },
      "execution_count": null,
      "outputs": [
        {
          "output_type": "stream",
          "name": "stdout",
          "text": [
            "6 frekans bandından 4 tanesini seçme sayısı: 15\n"
          ]
        }
      ]
    },
    {
      "cell_type": "markdown",
      "source": [
        "2-Her bir kombinasyon için kaç farklı sıralama (permutasyon) vardır (P(4,4))?"
      ],
      "metadata": {
        "id": "vD_Jv9ibzgRC"
      }
    },
    {
      "cell_type": "code",
      "source": [
        "import math\n",
        "\n",
        "def permutasyon(n, r):\n",
        "    return math.perm(n, r)\n",
        "\n",
        "frekans_band_sayisi = 4\n",
        "secim_sayisi = 4\n",
        "\n",
        "permutasyon_sayisi = permutasyon(frekans_band_sayisi, secim_sayisi)\n",
        "print(f\"{frekans_band_sayisi} frekans bandının {secim_sayisi} tanesini sıralama sayısı: {permutasyon_sayisi}\")\n"
      ],
      "metadata": {
        "colab": {
          "base_uri": "https://localhost:8080/"
        },
        "id": "_zYjAxzzzfCH",
        "outputId": "45d27b94-682c-46bf-80d1-64ab987102cc"
      },
      "execution_count": null,
      "outputs": [
        {
          "output_type": "stream",
          "name": "stdout",
          "text": [
            "4 frekans bandının 4 tanesini sıralama sayısı: 24\n"
          ]
        }
      ]
    },
    {
      "cell_type": "markdown",
      "source": [
        "3-Toplamda kaç farklı test senaryosu vardır (C(6,4) * P(4,4))?"
      ],
      "metadata": {
        "id": "XrwUs8JEz9np"
      }
    },
    {
      "cell_type": "code",
      "source": [
        "toplam_test_senaryolari = kombinasyon_sayisi * permutasyon_sayisi\n",
        "print(f\"Toplam {toplam_test_senaryolari} farklı test senaryosu bulunmaktadır.\")\n"
      ],
      "metadata": {
        "colab": {
          "base_uri": "https://localhost:8080/"
        },
        "id": "I6M-xXDVzfKd",
        "outputId": "7f9e4c64-ed70-45f1-cf4e-4f4d0b90d1b1"
      },
      "execution_count": null,
      "outputs": [
        {
          "output_type": "stream",
          "name": "stdout",
          "text": [
            "Toplam 360 farklı test senaryosu bulunmaktadır.\n"
          ]
        }
      ]
    }
  ]
}