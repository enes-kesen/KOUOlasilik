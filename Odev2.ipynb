{
  "nbformat": 4,
  "nbformat_minor": 0,
  "metadata": {
    "colab": {
      "provenance": [],
      "authorship_tag": "ABX9TyM4MdxDRzLypwNeREJtWvAj",
      "include_colab_link": true
    },
    "kernelspec": {
      "name": "python3",
      "display_name": "Python 3"
    },
    "language_info": {
      "name": "python"
    }
  },
  "cells": [
    {
      "cell_type": "markdown",
      "metadata": {
        "id": "view-in-github",
        "colab_type": "text"
      },
      "source": [
        "<a href=\"https://colab.research.google.com/github/enes-kesen/KOUOlasilik/blob/main/Odev2.ipynb\" target=\"_parent\"><img src=\"https://colab.research.google.com/assets/colab-badge.svg\" alt=\"Open In Colab\"/></a>"
      ]
    },
    {
      "cell_type": "markdown",
      "source": [
        "Bir kablosuz haberleşme sistemi, bir sinyalin herhangi bir yerindeki gücünün 20 dBm olduğu bir verici ve bir alıcı içerir. Alıcı, sinyalin ulaşma mesafesi nedeniyle 16 dBm güç seviyesinde alır. Sistemin, sinyaldeki bir hatanın olasılığı 0.01'dir. Sinyalin gürültüye karşı üstünlüğü 3 dB'dir. Alıcıdaki sinyal, gürültüden 5 dB daha güçlüdür. Bu sistemde, doğru bir sinyalin alınacağı olasılık nedir?\n",
        "\n",
        "Çözüm:\n",
        "Bu soruyu, verilen bilgileri kullanarak sistemdeki olasılıkları hesaplayarak çözebiliriz.\n",
        "\n",
        "İlk olarak, alıcının sinyal gücü ile gürültü gücünü karşılaştırarak sinyal-gürültü oranını (SNR) hesaplayabiliriz:\n",
        "\n",
        "SNR = güç(sinyal) / güç(gürültü)\n",
        "= 10^(20/10) / 10^(16/10+3/10)\n",
        "= 10^(4/10)\n",
        "= 10\n",
        "\n",
        "Daha sonra, verilen hata olasılığını (P_error) kullanarak doğru sinyalin alınması olasılığını hesaplayabiliriz:\n",
        "\n",
        "P_correct = 1 - P_error\n",
        "= 1 - 0.01\n",
        "= 0.99\n",
        "\n",
        "Son olarak, alıcının sinyal-gürültü oranı ile sinyal gücü ile gürültü gücü arasındaki farkı kullanarak sistemdeki doğru sinyalin alınma olasılığını hesaplayabiliriz:\n",
        "\n",
        "P_correct = Q(sqrt(10^(SNR/10)/2))\n",
        "= Q(sqrt(10/2))\n",
        "= Q(2.236)\n",
        "= 0.0113\n",
        "\n",
        "Burada Q() işlevi, bir Gauss hata fonksiyonudur. Bu, doğru bir sinyalin alınma olasılığının yaklaşık %1.13 olduğunu gösterir."
      ],
      "metadata": {
        "id": "JvCXr_95-DaK"
      }
    },
    {
      "cell_type": "code",
      "execution_count": 2,
      "metadata": {
        "colab": {
          "base_uri": "https://localhost:8080/"
        },
        "id": "BAJXQi4q9_NQ",
        "outputId": "df94e96d-f6e1-4ac3-98dd-1863a16d963c"
      },
      "outputs": [
        {
          "output_type": "stream",
          "name": "stdout",
          "text": [
            "Doğru sinyalin alınma olasılığı: 0.42755246539118363\n"
          ]
        }
      ],
      "source": [
        "import math\n",
        "\n",
        "# Verici ve alıcının güç seviyeleri (dBm)\n",
        "P_tx = 20\n",
        "P_rx = 16\n",
        "\n",
        "# Sinyal-gürültü oranı hesaplama\n",
        "SNR = 10 ** ((P_tx - P_rx - 3) / 10)\n",
        "\n",
        "# Hata olasılığı\n",
        "P_error = 0.01\n",
        "\n",
        "# Doğru sinyalin alınma olasılığı hesaplama\n",
        "P_correct = 1 - P_error\n",
        "P_correct = math.erfc(math.sqrt(SNR / 2) / math.sqrt(2))  # alternatif hesaplama\n",
        "\n",
        "print(\"Doğru sinyalin alınma olasılığı:\", P_correct)\n"
      ]
    }
  ]
}