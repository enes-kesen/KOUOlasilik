{
  "nbformat": 4,
  "nbformat_minor": 0,
  "metadata": {
    "colab": {
      "provenance": [],
      "authorship_tag": "ABX9TyMbCRoal+23hE8o362bSjaK",
      "include_colab_link": true
    },
    "kernelspec": {
      "name": "python3",
      "display_name": "Python 3"
    },
    "language_info": {
      "name": "python"
    }
  },
  "cells": [
    {
      "cell_type": "markdown",
      "metadata": {
        "id": "view-in-github",
        "colab_type": "text"
      },
      "source": [
        "<a href=\"https://colab.research.google.com/github/enes-kesen/KOUOlasilik/blob/main/Odev3.ipynb\" target=\"_parent\"><img src=\"https://colab.research.google.com/assets/colab-badge.svg\" alt=\"Open In Colab\"/></a>"
      ]
    },
    {
      "cell_type": "markdown",
      "source": [
        "Bir restoranda 3 farklı yemek seçeneği vardır: pizza, hamburger ve sandviç. Bir müşteri pizza veya hamburger siparişi verme olasılığı 0.6'dır. Pizza siparişi verme olasılığı 0.4 ve hamburger siparişi verme olasılığı 0.3'tür. Eğer müşteri pizza siparişi verirse, ekstra peynir ekleme olasılığı 0.2'dir. Hamburger siparişi verirse, ekstra peynir ekleme olasılığı 0.1'dir. Müşteri ekstra peynir ekleyerek sipariş verirse, pizza olma olasılığı nedir?\n",
        "\n",
        "Çözüm:\n",
        "Bu soruyu koşullu olasılık formülü kullanarak çözebiliriz:\n",
        "\n",
        "P(A | B) = P(A ve B) / P(B)\n",
        "\n",
        "Burada A, müşterinin pizza siparişi vermesi ve ekstra peynir eklemesi, B ise müşterinin pizza veya hamburger siparişi vermesidir.\n",
        "\n",
        "Öncelikle, P(B) 'yi hesaplayalım:\n",
        "\n",
        "P(B) = P(pizza) + P(hamburger)\n",
        "= 0.4 + 0.3\n",
        "= 0.7\n",
        "\n",
        "Daha sonra, P(A ve B) 'yi hesaplayalım:\n",
        "\n",
        "P(A ve B) = P(pizza ve peynir) + P(hamburger ve peynir)\n",
        "= P(pizza) * P(peynir | pizza) + P(hamburger) * P(peynir | hamburger)\n",
        "= 0.4 * 0.2 + 0.3 * 0.1\n",
        "= 0.08\n",
        "\n",
        "Son olarak, P(A | B) 'yi hesaplayalım:\n",
        "\n",
        "P(A | B) = P(A ve B) / P(B)\n",
        "= 0.08 / 0.7\n",
        "= 0.114\n",
        "\n",
        "Bu, müşterinin ekstra peynir ekleyerek pizza siparişi verme olasılığının yaklaşık %11.4 olduğunu gösterir."
      ],
      "metadata": {
        "id": "4XcG_4Uu_JNa"
      }
    },
    {
      "cell_type": "code",
      "execution_count": 1,
      "metadata": {
        "colab": {
          "base_uri": "https://localhost:8080/"
        },
        "id": "OGVWacIj_F2F",
        "outputId": "b44a1ff6-afa0-4002-bea6-7fa656c6c687"
      },
      "outputs": [
        {
          "output_type": "stream",
          "name": "stdout",
          "text": [
            "Ekstra peynir ekleyerek pizza siparişi verme olasılığı: 0.15714285714285717\n"
          ]
        }
      ],
      "source": [
        "# Olasılıkları belirleme\n",
        "P_pizza = 0.4\n",
        "P_hamburger = 0.3\n",
        "P_peynir_pizza = 0.2\n",
        "P_peynir_hamburger = 0.1\n",
        "\n",
        "# Müşterinin pizza veya hamburger siparişi verme olasılığı\n",
        "P_pizza_or_hamburger = 0.6\n",
        "\n",
        "# P(B) hesaplama\n",
        "P_B = P_pizza + P_hamburger\n",
        "\n",
        "# P(A ve B) hesaplama\n",
        "P_A_and_B = P_pizza * P_peynir_pizza + P_hamburger * P_peynir_hamburger\n",
        "\n",
        "# P(A | B) hesaplama\n",
        "P_A_given_B = P_A_and_B / P_B\n",
        "\n",
        "print(\"Ekstra peynir ekleyerek pizza siparişi verme olasılığı:\", P_A_given_B)\n"
      ]
    }
  ]
}